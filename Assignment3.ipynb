{
  "nbformat": 4,
  "nbformat_minor": 0,
  "metadata": {
    "colab": {
      "provenance": []
    },
    "kernelspec": {
      "name": "python3",
      "display_name": "Python 3"
    },
    "language_info": {
      "name": "python"
    }
  },
  "cells": [
    {
      "cell_type": "code",
      "execution_count": 20,
      "metadata": {
        "colab": {
          "base_uri": "https://localhost:8080/"
        },
        "id": "9VSThllB7EeM",
        "outputId": "6cf98396-04b0-48a6-c91c-a42cc604658e"
      },
      "outputs": [
        {
          "output_type": "stream",
          "name": "stdout",
          "text": [
            "[{'customer': 'Alice', 'total': 250.5}, {'customer': 'Charlie', 'total': 450}, {'customer': 'Daisy', 'total': 100.0}]\n"
          ]
        }
      ],
      "source": [
        "#TASK 1 PART a\n",
        "data=[{\"customer\": \"Alice\", \"total\": 250.5},\n",
        "{\"customer\": \"Bob\", \"total\": \"invalid_data\"},\n",
        "{\"customer\": \"Charlie\", \"total\": 450},\n",
        "{\"customer\": \"Daisy\", \"total\": 100.0},\n",
        "{\"customer\": \"Eve\", \"total\": -30}]\n",
        "clean_data = filter(lambda d: isinstance(d['total'], (int, float)) and d['total'] > 0, data)\n",
        "clean_data=list(clean_data)\n",
        "print(clean_data)\n",
        "\n"
      ]
    },
    {
      "cell_type": "code",
      "source": [
        "#TASK 1 PART b\n",
        "filtered_data = list(filter(lambda d: isinstance(d['total'], (int, float)) and d['total'] > 0, data))\n",
        "discounted_data=list(map(lambda x:{\"customer\":x[\"customer\"],\"total\":x['total']*0.9} if x['total']>300 else {**x} ,filtered_data))\n",
        "print(discounted_data)"
      ],
      "metadata": {
        "colab": {
          "base_uri": "https://localhost:8080/"
        },
        "id": "X7CHq4tBHaMl",
        "outputId": "82312c84-8cf0-45e7-e626-c8f7b5af299e"
      },
      "execution_count": 39,
      "outputs": [
        {
          "output_type": "stream",
          "name": "stdout",
          "text": [
            "[{'customer': 'Alice', 'total': 250.5}, {'customer': 'Charlie', 'total': 405.0}, {'customer': 'Daisy', 'total': 100.0}]\n"
          ]
        }
      ]
    },
    {
      "cell_type": "code",
      "source": [
        "from functools import *"
      ],
      "metadata": {
        "id": "MXk4OQGjLQ5L"
      },
      "execution_count": 32,
      "outputs": []
    },
    {
      "cell_type": "code",
      "source": [
        "#TASK 1 PART c\n",
        "total_sales=reduce(lambda x,y:x+y['total'], discounted_data,0)\n",
        "print(total_sales)"
      ],
      "metadata": {
        "colab": {
          "base_uri": "https://localhost:8080/"
        },
        "id": "SlyuDmkGJ6ee",
        "outputId": "4bcf33af-d026-4565-bb89-edbe6923eb31"
      },
      "execution_count": 41,
      "outputs": [
        {
          "output_type": "stream",
          "name": "stdout",
          "text": [
            "755.5\n"
          ]
        }
      ]
    },
    {
      "cell_type": "code",
      "source": [
        "#TASK 2 PART a\n",
        "class squareIterator:\n",
        "    def __init__(self, n):\n",
        "        self.n = n\n",
        "        self.start=1\n",
        "    def __iter__(self):\n",
        "        self.start = 1\n",
        "        while self.start < self.n:\n",
        "            yield self.start ** 2\n",
        "            self.start += 1\n",
        "\n",
        "iterator=squareIterator(5)\n",
        "for i in iterator:\n",
        "    print(i)"
      ],
      "metadata": {
        "colab": {
          "base_uri": "https://localhost:8080/"
        },
        "id": "fkzYypMKM6y2",
        "outputId": "0d48944d-d748-4b3b-8a71-6f56e76bffc0"
      },
      "execution_count": 49,
      "outputs": [
        {
          "output_type": "stream",
          "name": "stdout",
          "text": [
            "1\n",
            "4\n",
            "9\n",
            "16\n"
          ]
        }
      ]
    },
    {
      "cell_type": "code",
      "source": [
        "#TASK 2 part b\n",
        "def fibonaci_generator(n):\n",
        "    f,s=0,1\n",
        "    for i in range(n):\n",
        "        yield f\n",
        "        f,s=s,f+s\n",
        "\n",
        "\n",
        "for i in fibonaci_generator(6):\n",
        "    print(i)"
      ],
      "metadata": {
        "colab": {
          "base_uri": "https://localhost:8080/"
        },
        "id": "7prYBzGNSr2Z",
        "outputId": "33baa05e-4ec5-47ab-fe74-b8ca0cce21ca"
      },
      "execution_count": 83,
      "outputs": [
        {
          "output_type": "stream",
          "name": "stdout",
          "text": [
            "0\n",
            "1\n",
            "1\n",
            "2\n",
            "3\n",
            "5\n"
          ]
        }
      ]
    },
    {
      "cell_type": "code",
      "source": [
        "#TASK 3 part a\n",
        "class InvalidDivisor(Exception):\n",
        "    def __init__(self, divisor, message=\"Divisor must not be zero\"):\n",
        "        self.divisor = divisor\n",
        "        self.message = message\n",
        "        super().__init__(self.message)\n",
        "    def __str__(self):\n",
        "        return f'{self.divisor} -> {self.message}'\n",
        "\n",
        "class InvalidInput(Exception):\n",
        "    def __init__(self, num, message=\"Input should be numeric\"):\n",
        "        self.num = num\n",
        "        self.message = message\n",
        "        super().__init__(self.message)\n",
        "    def __str__(self):\n",
        "        return f'{self.num} -> {self.message}'\n",
        "\n",
        "\n",
        "def chained_exception(lst, divisor):\n",
        "    if divisor == 0:\n",
        "        raise InvalidDivisor(divisor)\n",
        "    res=[]\n",
        "    for num in lst:\n",
        "        if not isinstance(num, (int, float)):\n",
        "            raise InvalidInput(num)\n",
        "        else:\n",
        "            try:\n",
        "                res.append(num/divisor)\n",
        "            except Exception as e:\n",
        "                raise RuntimeError(f\"An error occurred while dividing {num} by {divisor}\") from e\n",
        "    return res\n",
        "\n",
        "numbers = [10, 20, \"thirty\", 40]\n",
        "\n",
        "try:\n",
        "    chained_exception(numbers, 2)\n",
        "except (InvalidDivisor, InvalidInput) as e:\n",
        "    print(f\"Error: {e}\")\n"
      ],
      "metadata": {
        "colab": {
          "base_uri": "https://localhost:8080/"
        },
        "id": "P9lmOheKZSqe",
        "outputId": "6e1af1ef-2bfd-456f-c5de-1ae3852ead1f"
      },
      "execution_count": 84,
      "outputs": [
        {
          "output_type": "stream",
          "name": "stdout",
          "text": [
            "Error: thirty -> Input should be numeric\n"
          ]
        }
      ]
    },
    {
      "cell_type": "code",
      "source": [
        "import logging\n"
      ],
      "metadata": {
        "id": "GwXVncUJb6GH"
      },
      "execution_count": 71,
      "outputs": []
    },
    {
      "cell_type": "code",
      "source": [
        "#TASK 3 part b\n",
        "logging.basicConfig(level=logging.ERROR, format='%(message)s')\n",
        "def exception_logging_decorator(func):\n",
        "    def wrapper(*args, **kwargs):\n",
        "        try:\n",
        "            return func(*args, **kwargs)\n",
        "        except Exception as err:\n",
        "            logging.error(f\"Exception in function '{func.__name__}': {type(e).__name__} - {str(e)}\")\n",
        "            raise\n",
        "    return wrapper\n",
        "\n",
        "@exception_logging_decorator\n",
        "def divide_numbers(a, b):\n",
        "    return a / b\n",
        "\n",
        "try:\n",
        "    result = divide_numbers(10, 0)\n",
        "    print(result)\n",
        "except Exception:\n",
        "    pass"
      ],
      "metadata": {
        "id": "2aLJyWHpaa7n"
      },
      "execution_count": 85,
      "outputs": []
    }
  ]
}