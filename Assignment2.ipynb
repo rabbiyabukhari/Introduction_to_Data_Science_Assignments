{
  "cells": [
    {
      "cell_type": "code",
      "execution_count": null,
      "metadata": {
        "id": "3k3mWiqBO742"
      },
      "outputs": [],
      "source": [
        "#Part 1\n",
        "\n",
        "def filteredListOfTuples(listOfTuples):\n",
        "    filteredUsers = []\n",
        "    nameList = []\n",
        "    for tup in listOfTuples:\n",
        "        userId, userName, age, country = tup\n",
        "        if age <= 30 or country not in ('USA', 'Canada'):\n",
        "            filteredUsers.append(tup)\n",
        "        else:\n",
        "            nameList.append(userName)\n",
        "    return filteredUsers, nameList\n",
        "\n",
        "def getThirdElement(tup):\n",
        "    return tup[2]\n",
        "def mostAged10(listOfTuples):\n",
        "    sortedList = sorted(listOfTuples, key=getThirdElement)\n",
        "    nameDict = {}\n",
        "    dups = set()\n",
        "    for tup in sortedList:\n",
        "        if tup[1] not in nameDict:\n",
        "            nameDict[tup[1]] = 1\n",
        "        else:\n",
        "            dups.add(tup[1])\n",
        "    if dups:\n",
        "        print(\"Duplicate names:\", list(dups))\n",
        "    return sortedList[-1:-11:-1]\n",
        "\n"
      ]
    },
    {
      "cell_type": "code",
      "execution_count": null,
      "metadata": {
        "id": "K105rpDTPMkm"
      },
      "outputs": [],
      "source": [
        "#Part 2\n",
        "def uniqueUsers(list_of_tuples):\n",
        "    unique_lst=[]\n",
        "    for tup in list_of_tuples:\n",
        "        if tup[1] not in unique_lst:\n",
        "            unique_lst.append(tup[1])\n",
        "    return len(unique_lst)\n",
        "\n",
        "def maximumAmount(list_of_tuples):\n",
        "    return max(list_of_tuples, key=lambda tup: tup[2])\n",
        "def seperateLists(list_of_tuples):\n",
        "    transactionIDs=[]\n",
        "    userIDs=[]\n",
        "    for tup in list_of_tuples:\n",
        "        if len(tup)>=2:\n",
        "            transactionIDs.append(tup[0])\n",
        "            userIDs.append(tup[1])\n",
        "        elif len(tup)==1:\n",
        "            transactionIDs.append(tup[0])\n",
        "    return transactionIDs,userIDs\n"
      ]
    },
    {
      "cell_type": "code",
      "execution_count": null,
      "metadata": {
        "id": "tzvVxkJd0hec"
      },
      "outputs": [],
      "source": [
        "#Part 3\n",
        "\n",
        "def setHandler1(set_A,set_B,set_C):\n",
        "    set1=set_A & set_B\n",
        "    set2=set_A.symmetric_difference(set_C)\n",
        "    return set1,set2\n",
        "\n",
        "def setHandler2(set_A,set_B,new_users_A,remove_users_B):\n",
        "    set_A.update(new_users_A)\n",
        "    set_B.difference_update(remove_users_B)\n",
        "    return set_A,set_B\n",
        "\n"
      ]
    },
    {
      "cell_type": "markdown",
      "metadata": {},
      "source": []
    },
    {
      "cell_type": "code",
      "execution_count": null,
      "metadata": {
        "id": "Tom5SZE-PgEm"
      },
      "outputs": [],
      "source": [
        "#Part 4\n",
        "def filterAndSortFeedback(feedbackDict):\n",
        "    highRatingDict = {userId: details['rating'] for userId, details in feedbackDict.items() if details['rating'] >= 4}\n",
        "    sortedFeedback = dict(sorted(highRatingDict.items(), key=lambda x: x[1], reverse=True)[:5])\n",
        "    return highRatingDict, sortedFeedback\n",
        "\n",
        "def mergingFeedback(*feedback_sources):\n",
        "    all_feedback = {}\n",
        "    for feedback in feedback_sources:\n",
        "        for user_id, details in feedback.items():\n",
        "            if user_id in all_feedback:\n",
        "                current_rating = all_feedback[user_id]['rating']\n",
        "                new_rating = details['rating']\n",
        "                all_feedback[user_id]['rating'] = max(current_rating, new_rating)\n",
        "                all_feedback[user_id]['comments'] += \" \" + details['comments']\n",
        "            else:\n",
        "                all_feedback[user_id] = details.copy()\n",
        "    high_rating_users = {user_id: details['rating'] for user_id, details in all_feedback.items() if details['rating'] > 3}\n",
        "    return all_feedback, high_rating_users\n",
        "\n"
      ]
    },
    {
      "cell_type": "code",
      "execution_count": null,
      "metadata": {
        "id": "BF4O9AVhRclt"
      },
      "outputs": [],
      "source": []
    }
  ],
  "metadata": {
    "colab": {
      "provenance": []
    },
    "kernelspec": {
      "display_name": "Python 3",
      "name": "python3"
    },
    "language_info": {
      "name": "python"
    }
  },
  "nbformat": 4,
  "nbformat_minor": 0
}
